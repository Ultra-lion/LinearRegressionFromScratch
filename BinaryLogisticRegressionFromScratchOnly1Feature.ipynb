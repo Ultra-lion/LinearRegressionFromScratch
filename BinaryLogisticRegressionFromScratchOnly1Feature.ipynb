{
  "nbformat": 4,
  "nbformat_minor": 0,
  "metadata": {
    "colab": {
      "provenance": [],
      "authorship_tag": "ABX9TyOAZ32/J7vI8H1L2dPAkHzR",
      "include_colab_link": true
    },
    "kernelspec": {
      "name": "python3",
      "display_name": "Python 3"
    },
    "language_info": {
      "name": "python"
    },
    "accelerator": "TPU"
  },
  "cells": [
    {
      "cell_type": "markdown",
      "metadata": {
        "id": "view-in-github",
        "colab_type": "text"
      },
      "source": [
        "<a href=\"https://colab.research.google.com/github/Ultra-lion/MLFromScratch/blob/main/BinaryLogisticRegressionFromScratchOnly1Feature.ipynb\" target=\"_parent\"><img src=\"https://colab.research.google.com/assets/colab-badge.svg\" alt=\"Open In Colab\"/></a>"
      ]
    },
    {
      "cell_type": "code",
      "execution_count": 1,
      "metadata": {
        "id": "shCFNQo5nRAF"
      },
      "outputs": [],
      "source": [
        "from sklearn.datasets import load_iris, load_breast_cancer\n",
        "from sklearn.linear_model import LogisticRegression\n",
        "from sklearn.preprocessing import Normalizer\n",
        "from sklearn.model_selection import train_test_split\n",
        "import math\n",
        "import numpy as np"
      ]
    },
    {
      "cell_type": "code",
      "source": [
        "def logisticFunction(coeffVector, dataPoint, intercept):\n",
        "  Z = intercept + np.dot(coeffVector, dataPoint)\n",
        "  sigmaZ = 1/(1+math.exp(-Z))\n",
        "  return sigmaZ"
      ],
      "metadata": {
        "id": "nEmPbNkfJqXI"
      },
      "execution_count": 2,
      "outputs": []
    },
    {
      "cell_type": "code",
      "source": [
        "def binaryCrossEntropyLossFunction(sigmaZ, actualOutput):\n",
        "  loss = -(actualOutput*math.log2(sigmaZ) + (1-actualOutput*math.log2(1-sigmaZ)))\n",
        "  return loss\n"
      ],
      "metadata": {
        "id": "azPyjoVVNIBY"
      },
      "execution_count": 3,
      "outputs": []
    },
    {
      "cell_type": "code",
      "source": [
        "def getGradients(sigmaZ, actualOutput, dataPoint):\n",
        "  return (sigmaZ-actualOutput)*dataPoint"
      ],
      "metadata": {
        "id": "zWzSNAtECdbZ"
      },
      "execution_count": 4,
      "outputs": []
    },
    {
      "cell_type": "code",
      "source": [
        "def updateWeights(weights, gradient, learning_rate):\n",
        "  return weights-learning_rate*gradient"
      ],
      "metadata": {
        "id": "gOpiS-wnDTYn"
      },
      "execution_count": 5,
      "outputs": []
    },
    {
      "cell_type": "code",
      "source": [
        "def applyThreshhold(sigmaZ):\n",
        "  boundary = 0.5\n",
        "  return 1 if sigmaZ>boundary else 0"
      ],
      "metadata": {
        "id": "c_608AeMMXOR"
      },
      "execution_count": 22,
      "outputs": []
    },
    {
      "cell_type": "code",
      "source": [
        "def train(intercept, weights, learningRate, boundary, X_train, y_train, num_epochs):\n",
        "  loss = 100001\n",
        "  for i in range(num_epochs):\n",
        "    wrong = 0\n",
        "    right = 0\n",
        "    for x in range(len(X_train)):\n",
        "      dataPoint = X_train[x][0]\n",
        "      actualOutput = y_train[x]\n",
        "      sigmaZ = logisticFunction(weights, dataPoint, intercept)\n",
        "      loss  = binaryCrossEntropyLossFunction(sigmaZ, actualOutput)\n",
        "      gradients = getGradients(sigmaZ, actualOutput, dataPoint)\n",
        "      weights = updateWeights(weights, gradients, learningRate)\n",
        "      prediction = applyThreshhold(sigmaZ)\n",
        "      if(prediction != actualOutput):\n",
        "        wrong = wrong+1\n",
        "      else:\n",
        "        right=right+1\n",
        "    print(\" accuracy: \", (right/(right+wrong)), \" right: \", right, \" wrong: \", wrong)\n",
        "  return weights"
      ],
      "metadata": {
        "id": "KhSFg1tbGTZA"
      },
      "execution_count": 21,
      "outputs": []
    },
    {
      "cell_type": "code",
      "source": [
        "def testAccuracy(trainedWeights, intercept, X_test, y_test):\n",
        "  score = 0\n",
        "  right = 0\n",
        "  wrong = 0\n",
        "  for x in range(len(X_test)):\n",
        "      dataPoint = X_test[x][0]\n",
        "      actualOutput = y_test[x]\n",
        "      sigmaZ = logisticFunction(trainedWeights, dataPoint, intercept)\n",
        "      prediction = applyThreshhold(sigmaZ)\n",
        "      if(prediction != actualOutput):\n",
        "        wrong = wrong+1\n",
        "      else:\n",
        "        right=right+1\n",
        "  print(\" Test Score: \", (right/(right+wrong)), \" right: \", right, \" wrong: \", wrong)"
      ],
      "metadata": {
        "id": "fULDQ34bMNlr"
      },
      "execution_count": 56,
      "outputs": []
    },
    {
      "cell_type": "code",
      "source": [
        "X,Y = load_breast_cancer(return_X_y=True)\n",
        "X1D = X[:,:1]"
      ],
      "metadata": {
        "id": "ZEYjzCJX2rcY"
      },
      "execution_count": 7,
      "outputs": []
    },
    {
      "cell_type": "code",
      "source": [
        "X_train, X_test, y_train, y_test = train_test_split(X1D, Y, test_size=0.33, random_state=42)"
      ],
      "metadata": {
        "id": "cz4qwA0Ls-YB"
      },
      "execution_count": 8,
      "outputs": []
    },
    {
      "cell_type": "code",
      "source": [
        "len(X_train)"
      ],
      "metadata": {
        "id": "Lj6aIDiPviFB",
        "colab": {
          "base_uri": "https://localhost:8080/"
        },
        "outputId": "56767291-a1aa-40dd-ff13-54722e9a560d"
      },
      "execution_count": 9,
      "outputs": [
        {
          "output_type": "execute_result",
          "data": {
            "text/plain": [
              "381"
            ]
          },
          "metadata": {},
          "execution_count": 9
        }
      ]
    },
    {
      "cell_type": "code",
      "source": [],
      "metadata": {
        "id": "ZBsEhvq1M_cR"
      },
      "execution_count": null,
      "outputs": []
    },
    {
      "cell_type": "code",
      "source": [
        "clf = LogisticRegression().fit(X_train, y_train)\n",
        "print(\"sklearn train train score: \", clf.score(X_train, y_train))\n",
        "print(\"sklearn train final weights: \", clf.coef_)\n",
        "print(\"sklearn train final intercept_: \", clf.intercept_)\n",
        "print(\"sklearn test score: \", clf.score(X_test, y_test))\n"
      ],
      "metadata": {
        "id": "peQPOqUHsaeL",
        "colab": {
          "base_uri": "https://localhost:8080/"
        },
        "outputId": "0898ee4d-1e3e-45c9-c243-7e7a9609623d"
      },
      "execution_count": 63,
      "outputs": [
        {
          "output_type": "stream",
          "name": "stdout",
          "text": [
            "sklearn train train score:  0.868766404199475\n",
            "sklearn train final weights:  [[-0.90602166]]\n",
            "sklearn train final intercept_:  [13.38170748]\n",
            "sklearn test score:  0.9042553191489362\n"
          ]
        }
      ]
    },
    {
      "cell_type": "code",
      "source": [
        "intercept = sum(X_train)/len(X_train)\n",
        "weights  = np.random.rand(1)\n",
        "print(\"initial weights: \", weights)\n",
        "learningRate = 0.005\n",
        "boundary = 0.5\n",
        "finalWeights = train(intercept, weights, learningRate, boundary, X_train, y_train, 10)\n",
        "print(\"training Final Weights: \", finalWeights)\n",
        "print(\"training intercept: \", intercept)\n",
        "\n",
        "testAccuracy(finalWeights, intercept, X_test, y_test)"
      ],
      "metadata": {
        "colab": {
          "base_uri": "https://localhost:8080/"
        },
        "id": "IUSYLwRYIw54",
        "outputId": "62ab2ca4-4eb9-475b-ddd2-d87b1ceb18e6"
      },
      "execution_count": 65,
      "outputs": [
        {
          "output_type": "stream",
          "name": "stdout",
          "text": [
            "initial weights:  [0.7942321]\n",
            " accuracy:  0.8241469816272966  right:  314  wrong:  67\n",
            " accuracy:  0.863517060367454  right:  329  wrong:  52\n",
            " accuracy:  0.863517060367454  right:  329  wrong:  52\n",
            " accuracy:  0.863517060367454  right:  329  wrong:  52\n",
            " accuracy:  0.863517060367454  right:  329  wrong:  52\n",
            " accuracy:  0.863517060367454  right:  329  wrong:  52\n",
            " accuracy:  0.863517060367454  right:  329  wrong:  52\n",
            " accuracy:  0.863517060367454  right:  329  wrong:  52\n",
            " accuracy:  0.863517060367454  right:  329  wrong:  52\n",
            " accuracy:  0.863517060367454  right:  329  wrong:  52\n",
            "training Final Weights:  [-0.97709335]\n",
            "training intercept:  [14.18622835]\n",
            " Test Score:  0.8776595744680851  right:  165  wrong:  23\n"
          ]
        }
      ]
    }
  ]
}
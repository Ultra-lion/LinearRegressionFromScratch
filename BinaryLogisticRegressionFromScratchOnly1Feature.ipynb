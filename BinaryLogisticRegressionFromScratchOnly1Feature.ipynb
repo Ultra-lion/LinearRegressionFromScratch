{
  "nbformat": 4,
  "nbformat_minor": 0,
  "metadata": {
    "colab": {
      "provenance": [],
      "authorship_tag": "ABX9TyNgVWbMqThZnv9S53ZEDBti",
      "include_colab_link": true
    },
    "kernelspec": {
      "name": "python3",
      "display_name": "Python 3"
    },
    "language_info": {
      "name": "python"
    },
    "accelerator": "TPU"
  },
  "cells": [
    {
      "cell_type": "markdown",
      "metadata": {
        "id": "view-in-github",
        "colab_type": "text"
      },
      "source": [
        "<a href=\"https://colab.research.google.com/github/Ultra-lion/MLFromScratch/blob/main/BinaryLogisticRegressionFromScratchOnly1Feature.ipynb\" target=\"_parent\"><img src=\"https://colab.research.google.com/assets/colab-badge.svg\" alt=\"Open In Colab\"/></a>"
      ]
    },
    {
      "cell_type": "code",
      "execution_count": 185,
      "metadata": {
        "id": "shCFNQo5nRAF"
      },
      "outputs": [],
      "source": [
        "from sklearn.datasets import load_iris, load_breast_cancer\n",
        "from sklearn.linear_model import LogisticRegression\n",
        "from sklearn.preprocessing import Normalizer\n",
        "from sklearn.model_selection import train_test_split\n",
        "import math\n",
        "import numpy as np"
      ]
    },
    {
      "cell_type": "code",
      "source": [
        "def logisticFunction(coeffVector, dataPoint, intercept):\n",
        "  Z = intercept + np.dot(coeffVector, dataPoint)\n",
        "  sigmaZ = 1/(1+math.exp(-Z))\n",
        "  return sigmaZ"
      ],
      "metadata": {
        "id": "nEmPbNkfJqXI"
      },
      "execution_count": 186,
      "outputs": []
    },
    {
      "cell_type": "code",
      "source": [
        "def binaryCrossEntropyLossFunction(sigmaZ, actualOutput):\n",
        "  loss = -(actualOutput*math.log2(sigmaZ) + (1-actualOutput*math.log2(1-sigmaZ)))\n",
        "  return loss\n"
      ],
      "metadata": {
        "id": "azPyjoVVNIBY"
      },
      "execution_count": 187,
      "outputs": []
    },
    {
      "cell_type": "code",
      "source": [
        "def getGradients(sigmaZ, actualOutput, dataPoint):\n",
        "  return (sigmaZ-actualOutput)*dataPoint"
      ],
      "metadata": {
        "id": "zWzSNAtECdbZ"
      },
      "execution_count": 188,
      "outputs": []
    },
    {
      "cell_type": "code",
      "source": [
        "def updateWeights(weights, gradient, learning_rate):\n",
        "  return weights-learning_rate*gradient"
      ],
      "metadata": {
        "id": "gOpiS-wnDTYn"
      },
      "execution_count": 189,
      "outputs": []
    },
    {
      "cell_type": "code",
      "source": [
        "def train(intercept, weights, learningRate, boundary, X_train, y_train, num_epochs):\n",
        "  loss = 100001\n",
        "  for i in range(num_epochs):\n",
        "    wrong = 0\n",
        "    right = 0\n",
        "    for x in range(len(X_train)):\n",
        "      dataPoint = X_train[x][0]\n",
        "      actualOutput = y_train[x]\n",
        "      sigmaZ = logisticFunction(weights, dataPoint, intercept)\n",
        "      loss  = binaryCrossEntropyLossFunction(sigmaZ, actualOutput)\n",
        "      gradients = getGradients(sigmaZ, actualOutput, dataPoint)\n",
        "      prevWeight = weights\n",
        "      weights = updateWeights(weights, gradients, learningRate)\n",
        "      prediction = 1 if sigmaZ>boundary else 0\n",
        "      if(prediction != actualOutput):\n",
        "        wrong = wrong+1\n",
        "      else:\n",
        "        right=right+1\n",
        "    print(\" accuracy: \", right/(right+wrong))\n",
        "    # print(\"epoch: \", i , \" latest loss: \", loss, \" latest weights: \", weights, \" latest gradient: \",gradients, \" learningRate: \", learningRate, \" wrongs: \", wrong, \" right: \", right)\n",
        "  return weights"
      ],
      "metadata": {
        "id": "KhSFg1tbGTZA"
      },
      "execution_count": 207,
      "outputs": []
    },
    {
      "cell_type": "code",
      "source": [
        "X,Y = load_breast_cancer(return_X_y=True)\n",
        "X1D = X[:,:1]"
      ],
      "metadata": {
        "id": "ZEYjzCJX2rcY"
      },
      "execution_count": 191,
      "outputs": []
    },
    {
      "cell_type": "code",
      "source": [
        "X_train, X_test, y_train, y_test = train_test_split(X1D, Y, test_size=0.33, random_state=42)"
      ],
      "metadata": {
        "id": "cz4qwA0Ls-YB"
      },
      "execution_count": 192,
      "outputs": []
    },
    {
      "cell_type": "code",
      "source": [
        "len(X_train)"
      ],
      "metadata": {
        "id": "Lj6aIDiPviFB",
        "colab": {
          "base_uri": "https://localhost:8080/"
        },
        "outputId": "cc2b3d78-3d08-41fe-e78d-d49801a75b87"
      },
      "execution_count": 193,
      "outputs": [
        {
          "output_type": "execute_result",
          "data": {
            "text/plain": [
              "381"
            ]
          },
          "metadata": {},
          "execution_count": 193
        }
      ]
    },
    {
      "cell_type": "code",
      "source": [
        "intercept = sum(X_train)/len(X_train)\n",
        "weights  = np.random.rand(1)\n",
        "print(\"initial weights: \", weights)\n",
        "learningRate = 0.005\n",
        "boundary = 0.5\n",
        "train(intercept, weights, learningRate, boundary, X_train, y_train, 10)"
      ],
      "metadata": {
        "colab": {
          "base_uri": "https://localhost:8080/"
        },
        "id": "IUSYLwRYIw54",
        "outputId": "d0c74c99-1f1a-47c3-df3e-713c2f589a62"
      },
      "execution_count": 214,
      "outputs": [
        {
          "output_type": "stream",
          "name": "stdout",
          "text": [
            "initial weights:  [0.75633885]\n",
            " accuracy:  0.8241469816272966\n",
            " accuracy:  0.863517060367454\n",
            " accuracy:  0.863517060367454\n",
            " accuracy:  0.863517060367454\n",
            " accuracy:  0.863517060367454\n",
            " accuracy:  0.863517060367454\n",
            " accuracy:  0.863517060367454\n",
            " accuracy:  0.863517060367454\n",
            " accuracy:  0.863517060367454\n",
            " accuracy:  0.863517060367454\n"
          ]
        },
        {
          "output_type": "execute_result",
          "data": {
            "text/plain": [
              "array([-0.97709335])"
            ]
          },
          "metadata": {},
          "execution_count": 214
        }
      ]
    },
    {
      "cell_type": "code",
      "source": [
        "clf = LogisticRegression().fit(X_train, y_train)\n",
        "clf.score(X_train, y_train)"
      ],
      "metadata": {
        "id": "peQPOqUHsaeL",
        "colab": {
          "base_uri": "https://localhost:8080/"
        },
        "outputId": "e2375670-de3b-4c7f-f86a-258d5a49459e"
      },
      "execution_count": 213,
      "outputs": [
        {
          "output_type": "execute_result",
          "data": {
            "text/plain": [
              "0.868766404199475"
            ]
          },
          "metadata": {},
          "execution_count": 213
        }
      ]
    }
  ]
}